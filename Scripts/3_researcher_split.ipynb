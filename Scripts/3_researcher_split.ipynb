{
 "cells": [
  {
   "cell_type": "code",
   "execution_count": 2,
   "metadata": {
    "collapsed": true
   },
   "outputs": [],
   "source": [
    "import numpy as np\n",
    "import pandas as pd\n",
    "import math\n"
   ]
  },
  {
   "cell_type": "code",
   "execution_count": 3,
   "outputs": [],
   "source": [
    "# import original_sheet\n",
    "VR = pd.read_excel(\"VR-ansökningar 2012-2016.xlsx\", sheet_name=1)\n",
    "# drop all unnamed columns in VR\n",
    "VR =  VR.loc[:, ~VR.columns.str.contains('^Unnamed')]\n",
    "\n",
    "# import the RA Sheet\n",
    "RA = pd.read_excel(\"RA_Sheet.xlsx\")"
   ],
   "metadata": {
    "collapsed": false,
    "pycharm": {
     "name": "#%%\n"
    }
   }
  },
  {
   "cell_type": "code",
   "execution_count": 4,
   "outputs": [
    {
     "data": {
      "text/plain": "          Dnr  Ärendeår           Efternamn          Förnamn     Kön  \\\n0  2016-00981      2016  Calderón-Larrañaga            Amaia  Kvinna   \n1  2016-00992      2016            Swanberg            Maria  Kvinna   \n2  2016-01005      2016              Horejs  Christine-Maria  Kvinna   \n3  2016-01008      2016             Latvala            Antti     Man   \n4  2016-01016      2016             Perisic          Ljubica  Kvinna   \n\n        Medelsförvaltare    Beslut        Klustrad bidragsform  \\\n0  Karolinska Institutet  Beviljad  Etablering - Unga forskare   \n1      Lunds universitet    Avslag  Etablering - Unga forskare   \n2  Karolinska Institutet    Avslag  Etablering - Unga forskare   \n3  Karolinska Institutet    Avslag  Etablering - Unga forskare   \n4  Karolinska Institutet    Avslag  Etablering - Unga forskare   \n\n         Bidragsform Inriktning  ... Stödform (fr om 2016)  \\\n0  Etableringsbidrag        Fri  ...           Karriärstöd   \n1  Etableringsbidrag        Fri  ...           Karriärstöd   \n2  Etableringsbidrag        Fri  ...           Karriärstöd   \n3  Etableringsbidrag        Fri  ...           Karriärstöd   \n4  Etableringsbidrag        Fri  ...           Karriärstöd   \n\n                 Beslutsorgan (ÄRK) Ämnesområde HuvudBG        Alla SCBkoder  \\\n0  Ämnesrådet för medicin och hälsa          MH   MH-G2       30302, 30222 ,   \n1  Ämnesrådet för medicin och hälsa          MH   MH-D1  30105, 30107, 30207   \n2  Ämnesrådet för medicin och hälsa          MH   MH-F1                30108   \n3  Ämnesrådet för medicin och hälsa          MH   MH-G1       30302, 30215 ,   \n4  Ämnesrådet för medicin och hälsa          MH   MH-E2  30108, 30107, 30199   \n\n  TotalBevBelopp  Antal Beviljade År  \\\n0      6000000.0                   4   \n1            NaN                   0   \n2            NaN                   0   \n3            NaN                   0   \n4            NaN                   0   \n\n                                      ProjekttitelSv  \\\n0  Fenotyper av hälsosamt åldrande: betydelsen av...   \n1  Identifiering av genetiska riskfaktorer för Pa...   \n2  Det kryptiska basalmembranet: ett outforskat o...   \n3  Sambandet mellan ångeststörningar och missbruk...   \n4  Rollen av glatta muskelceller i instabil atero...   \n\n                                      ProjekttitelEn  \\\n0  Phenotypes of healthier aging: the role of env...   \n1  Identification of genetic risk factors for Par...   \n2  The cryptic basement membrane: An unexplored c...   \n3  Comorbidity of anxiety and substance use disor...   \n4  The role of smooth muscle cells in unstable at...   \n\n                                           Nyckelord  \n0  Aging phenotypes, Multimorbidity,  Frailty, Di...  \n1  Parkinson´s sjukdom, Komplex genetik, Neurodeg...  \n2  tissue fibrosis, basement membrane, cell migra...  \n3  anxiety disorders, substance use disorders, co...  \n4  atherosclerosis, vascular smooth muscle cells,...  \n\n[5 rows x 21 columns]",
      "text/html": "<div>\n<style scoped>\n    .dataframe tbody tr th:only-of-type {\n        vertical-align: middle;\n    }\n\n    .dataframe tbody tr th {\n        vertical-align: top;\n    }\n\n    .dataframe thead th {\n        text-align: right;\n    }\n</style>\n<table border=\"1\" class=\"dataframe\">\n  <thead>\n    <tr style=\"text-align: right;\">\n      <th></th>\n      <th>Dnr</th>\n      <th>Ärendeår</th>\n      <th>Efternamn</th>\n      <th>Förnamn</th>\n      <th>Kön</th>\n      <th>Medelsförvaltare</th>\n      <th>Beslut</th>\n      <th>Klustrad bidragsform</th>\n      <th>Bidragsform</th>\n      <th>Inriktning</th>\n      <th>...</th>\n      <th>Stödform (fr om 2016)</th>\n      <th>Beslutsorgan (ÄRK)</th>\n      <th>Ämnesområde</th>\n      <th>HuvudBG</th>\n      <th>Alla SCBkoder</th>\n      <th>TotalBevBelopp</th>\n      <th>Antal Beviljade År</th>\n      <th>ProjekttitelSv</th>\n      <th>ProjekttitelEn</th>\n      <th>Nyckelord</th>\n    </tr>\n  </thead>\n  <tbody>\n    <tr>\n      <th>0</th>\n      <td>2016-00981</td>\n      <td>2016</td>\n      <td>Calderón-Larrañaga</td>\n      <td>Amaia</td>\n      <td>Kvinna</td>\n      <td>Karolinska Institutet</td>\n      <td>Beviljad</td>\n      <td>Etablering - Unga forskare</td>\n      <td>Etableringsbidrag</td>\n      <td>Fri</td>\n      <td>...</td>\n      <td>Karriärstöd</td>\n      <td>Ämnesrådet för medicin och hälsa</td>\n      <td>MH</td>\n      <td>MH-G2</td>\n      <td>30302, 30222 ,</td>\n      <td>6000000.0</td>\n      <td>4</td>\n      <td>Fenotyper av hälsosamt åldrande: betydelsen av...</td>\n      <td>Phenotypes of healthier aging: the role of env...</td>\n      <td>Aging phenotypes, Multimorbidity,  Frailty, Di...</td>\n    </tr>\n    <tr>\n      <th>1</th>\n      <td>2016-00992</td>\n      <td>2016</td>\n      <td>Swanberg</td>\n      <td>Maria</td>\n      <td>Kvinna</td>\n      <td>Lunds universitet</td>\n      <td>Avslag</td>\n      <td>Etablering - Unga forskare</td>\n      <td>Etableringsbidrag</td>\n      <td>Fri</td>\n      <td>...</td>\n      <td>Karriärstöd</td>\n      <td>Ämnesrådet för medicin och hälsa</td>\n      <td>MH</td>\n      <td>MH-D1</td>\n      <td>30105, 30107, 30207</td>\n      <td>NaN</td>\n      <td>0</td>\n      <td>Identifiering av genetiska riskfaktorer för Pa...</td>\n      <td>Identification of genetic risk factors for Par...</td>\n      <td>Parkinson´s sjukdom, Komplex genetik, Neurodeg...</td>\n    </tr>\n    <tr>\n      <th>2</th>\n      <td>2016-01005</td>\n      <td>2016</td>\n      <td>Horejs</td>\n      <td>Christine-Maria</td>\n      <td>Kvinna</td>\n      <td>Karolinska Institutet</td>\n      <td>Avslag</td>\n      <td>Etablering - Unga forskare</td>\n      <td>Etableringsbidrag</td>\n      <td>Fri</td>\n      <td>...</td>\n      <td>Karriärstöd</td>\n      <td>Ämnesrådet för medicin och hälsa</td>\n      <td>MH</td>\n      <td>MH-F1</td>\n      <td>30108</td>\n      <td>NaN</td>\n      <td>0</td>\n      <td>Det kryptiska basalmembranet: ett outforskat o...</td>\n      <td>The cryptic basement membrane: An unexplored c...</td>\n      <td>tissue fibrosis, basement membrane, cell migra...</td>\n    </tr>\n    <tr>\n      <th>3</th>\n      <td>2016-01008</td>\n      <td>2016</td>\n      <td>Latvala</td>\n      <td>Antti</td>\n      <td>Man</td>\n      <td>Karolinska Institutet</td>\n      <td>Avslag</td>\n      <td>Etablering - Unga forskare</td>\n      <td>Etableringsbidrag</td>\n      <td>Fri</td>\n      <td>...</td>\n      <td>Karriärstöd</td>\n      <td>Ämnesrådet för medicin och hälsa</td>\n      <td>MH</td>\n      <td>MH-G1</td>\n      <td>30302, 30215 ,</td>\n      <td>NaN</td>\n      <td>0</td>\n      <td>Sambandet mellan ångeststörningar och missbruk...</td>\n      <td>Comorbidity of anxiety and substance use disor...</td>\n      <td>anxiety disorders, substance use disorders, co...</td>\n    </tr>\n    <tr>\n      <th>4</th>\n      <td>2016-01016</td>\n      <td>2016</td>\n      <td>Perisic</td>\n      <td>Ljubica</td>\n      <td>Kvinna</td>\n      <td>Karolinska Institutet</td>\n      <td>Avslag</td>\n      <td>Etablering - Unga forskare</td>\n      <td>Etableringsbidrag</td>\n      <td>Fri</td>\n      <td>...</td>\n      <td>Karriärstöd</td>\n      <td>Ämnesrådet för medicin och hälsa</td>\n      <td>MH</td>\n      <td>MH-E2</td>\n      <td>30108, 30107, 30199</td>\n      <td>NaN</td>\n      <td>0</td>\n      <td>Rollen av glatta muskelceller i instabil atero...</td>\n      <td>The role of smooth muscle cells in unstable at...</td>\n      <td>atherosclerosis, vascular smooth muscle cells,...</td>\n    </tr>\n  </tbody>\n</table>\n<p>5 rows × 21 columns</p>\n</div>"
     },
     "execution_count": 4,
     "metadata": {},
     "output_type": "execute_result"
    }
   ],
   "source": [
    "VR.head()"
   ],
   "metadata": {
    "collapsed": false,
    "pycharm": {
     "name": "#%%\n"
    }
   }
  },
  {
   "cell_type": "code",
   "execution_count": 5,
   "outputs": [
    {
     "data": {
      "text/plain": "   ID             name             surname  \\\n0   1            Amaia  Calderón-Larrañaga   \n1   2            Maria            Swanberg   \n2   3  Christine-Maria              Horejs   \n3   4            Antti             Latvala   \n4   5          Ljubica             Perisic   \n\n                                             app_ids  count personnummer_cv  \\\n0                                     ['2016-00981']      1   19830529-3386   \n1  ['2016-00992', '2013-03310', '2012-02563', '20...      6   19770510-0241   \n2                                     ['2016-01005']      1             NaN   \n3                                     ['2016-01008']      1             NaN   \n4                                     ['2016-01016']      1             NaN   \n\n   year years_unsure  birth_year  in_sweden            institution  \n0   NaN          NaN         NaN          0                    NaN  \n1  2007          NaN      1977.0          1  Karolinska Institutet  \n2   NaN          NaN         NaN          0                    NaN  \n3  2011          NaN         NaN          0                    NaN  \n4  2012          NaN      1979.0          1  Karolinska Institutet  ",
      "text/html": "<div>\n<style scoped>\n    .dataframe tbody tr th:only-of-type {\n        vertical-align: middle;\n    }\n\n    .dataframe tbody tr th {\n        vertical-align: top;\n    }\n\n    .dataframe thead th {\n        text-align: right;\n    }\n</style>\n<table border=\"1\" class=\"dataframe\">\n  <thead>\n    <tr style=\"text-align: right;\">\n      <th></th>\n      <th>ID</th>\n      <th>name</th>\n      <th>surname</th>\n      <th>app_ids</th>\n      <th>count</th>\n      <th>personnummer_cv</th>\n      <th>year</th>\n      <th>years_unsure</th>\n      <th>birth_year</th>\n      <th>in_sweden</th>\n      <th>institution</th>\n    </tr>\n  </thead>\n  <tbody>\n    <tr>\n      <th>0</th>\n      <td>1</td>\n      <td>Amaia</td>\n      <td>Calderón-Larrañaga</td>\n      <td>['2016-00981']</td>\n      <td>1</td>\n      <td>19830529-3386</td>\n      <td>NaN</td>\n      <td>NaN</td>\n      <td>NaN</td>\n      <td>0</td>\n      <td>NaN</td>\n    </tr>\n    <tr>\n      <th>1</th>\n      <td>2</td>\n      <td>Maria</td>\n      <td>Swanberg</td>\n      <td>['2016-00992', '2013-03310', '2012-02563', '20...</td>\n      <td>6</td>\n      <td>19770510-0241</td>\n      <td>2007</td>\n      <td>NaN</td>\n      <td>1977.0</td>\n      <td>1</td>\n      <td>Karolinska Institutet</td>\n    </tr>\n    <tr>\n      <th>2</th>\n      <td>3</td>\n      <td>Christine-Maria</td>\n      <td>Horejs</td>\n      <td>['2016-01005']</td>\n      <td>1</td>\n      <td>NaN</td>\n      <td>NaN</td>\n      <td>NaN</td>\n      <td>NaN</td>\n      <td>0</td>\n      <td>NaN</td>\n    </tr>\n    <tr>\n      <th>3</th>\n      <td>4</td>\n      <td>Antti</td>\n      <td>Latvala</td>\n      <td>['2016-01008']</td>\n      <td>1</td>\n      <td>NaN</td>\n      <td>2011</td>\n      <td>NaN</td>\n      <td>NaN</td>\n      <td>0</td>\n      <td>NaN</td>\n    </tr>\n    <tr>\n      <th>4</th>\n      <td>5</td>\n      <td>Ljubica</td>\n      <td>Perisic</td>\n      <td>['2016-01016']</td>\n      <td>1</td>\n      <td>NaN</td>\n      <td>2012</td>\n      <td>NaN</td>\n      <td>1979.0</td>\n      <td>1</td>\n      <td>Karolinska Institutet</td>\n    </tr>\n  </tbody>\n</table>\n</div>"
     },
     "execution_count": 5,
     "metadata": {},
     "output_type": "execute_result"
    }
   ],
   "source": [
    "RA.head()"
   ],
   "metadata": {
    "collapsed": false,
    "pycharm": {
     "name": "#%%\n"
    }
   }
  },
  {
   "cell_type": "markdown",
   "source": [
    "## Join the Name ID into the VR Data Set\n"
   ],
   "metadata": {
    "collapsed": false,
    "pycharm": {
     "name": "#%% md\n"
    }
   }
  },
  {
   "cell_type": "code",
   "execution_count": 6,
   "outputs": [],
   "source": [
    "# join the RA id to the VR df\n",
    "for x in RA[['ID', 'app_ids']].values:\n",
    "    id = x[0]\n",
    "    # remove quotes, brackets and spaces, then split to a list (cannot use json because single quotes)\n",
    "    # also translate is much faster at replacing than replace or regex\n",
    "    app_ids = (x[1].translate({ord(i):None for i in \"[] '\"})).split(\",\")\n",
    "    # now we shall add the researcher_id to the VR dataset\n",
    "    for a in app_ids:\n",
    "        #print(VR[VR['Dnr'] == a]) #['RID'] = id\n",
    "        VR.loc[VR['Dnr'] == a,'NID'] = id\n",
    "\n"
   ],
   "metadata": {
    "collapsed": false,
    "pycharm": {
     "name": "#%%\n"
    }
   }
  },
  {
   "cell_type": "code",
   "execution_count": 7,
   "outputs": [
    {
     "data": {
      "text/plain": "              Dnr  Ärendeår Efternamn Förnamn     Kön   Medelsförvaltare  \\\n1      2016-00992      2016  Swanberg   Maria  Kvinna  Lunds universitet   \n3090   2013-03310      2013  Swanberg   Maria  Kvinna  Lunds universitet   \n23396  2012-02563      2012  Swanberg   Maria  Kvinna  Lunds universitet   \n24350  2013-03354      2013  Swanberg   Maria  Kvinna  Lunds universitet   \n25617  2014-03636      2014  Swanberg   Maria  Kvinna  Lunds universitet   \n26484  2015-03376      2015  Swanberg   Maria  Kvinna  Lunds universitet   \n\n       Beslut        Klustrad bidragsform                  Bidragsform  \\\n1      Avslag  Etablering - Unga forskare            Etableringsbidrag   \n3090   Avslag               Projektbidrag                Projektbidrag   \n23396  Avslag  Etablering - Unga forskare  Projektbidrag Unga forskare   \n24350  Avslag  Etablering - Unga forskare  Projektbidrag Unga forskare   \n25617  Avslag  Etablering - Unga forskare  Projektbidrag Unga forskare   \n26484  Avslag  Etablering - Unga forskare  Projektbidrag Unga forskare   \n\n                                              Inriktning  ...  \\\n1                                                    Fri  ...   \n3090   Alternativa metoder till djurförsök enligt 3R-...  ...   \n23396                                                Fri  ...   \n24350                                                Fri  ...   \n25617                                                Fri  ...   \n26484                                                Fri  ...   \n\n                     Beslutsorgan (ÄRK) Ämnesområde          HuvudBG  \\\n1      Ämnesrådet för medicin och hälsa          MH            MH-D1   \n3090   Ämnesrådet för medicin och hälsa          MH            MH-3R   \n23396  Ämnesrådet för medicin och hälsa          MH  MH-Ung, MH-Ung1   \n24350  Ämnesrådet för medicin och hälsa          MH            MH-D1   \n25617  Ämnesrådet för medicin och hälsa          MH            MH-D1   \n26484  Ämnesrådet för medicin och hälsa          MH            MH-D1   \n\n             Alla SCBkoder TotalBevBelopp Antal Beviljade År  \\\n1      30105, 30107, 30207            NaN                  0   \n3090   30105, 30107, 30108            0.0                  0   \n23396       30105, 30107 ,            0.0                  0   \n24350       30105, 30107 ,            0.0                  0   \n25617  30105, 30107, 30110            NaN                  0   \n26484  30105, 30107, 30207            0.0                  0   \n\n                                          ProjekttitelSv  \\\n1      Identifiering av genetiska riskfaktorer för Pa...   \n3090   Nya cellbaserade genetiska modeller för neurod...   \n23396  Den komplexa genetiken bakom nervcellsdöd och ...   \n24350  IDENTIFIERING AV GENETISKA RISKFAKTORER BAKOM ...   \n25617  Identifiering av nya genetiska riskfaktorer fö...   \n26484  Identifiering av genetiska riskfaktorer bakom ...   \n\n                                          ProjekttitelEn  \\\n1      Identification of genetic risk factors for Par...   \n3090   Nya cellbaserade genetiska modeller för neurod...   \n23396  The Complex Genetics of Neurodegeneration and ...   \n24350  IDENTIFYING COMPLEX GENETIC RISK FACTORS BEHIN...   \n25617  Identification of novel genetic risk factors f...   \n26484  Translational identification of novel genetic ...   \n\n                                               Nyckelord  NID  \n1      Parkinson´s sjukdom, Komplex genetik, Neurodeg...  2.0  \n3090   Idiopathic Parkinson´s Disease; Genetic Variat...  2.0  \n23396  Parkinson disease; Neurodegenerative diseases;...  2.0  \n24350  Parkinson´s disease; Neurodegenerative disease...  2.0  \n25617  Parkinson´s disease; Genetic research; Neurode...  2.0  \n26484  Komplex genetik, Neurodegeneration, Neuroinfla...  2.0  \n\n[6 rows x 22 columns]",
      "text/html": "<div>\n<style scoped>\n    .dataframe tbody tr th:only-of-type {\n        vertical-align: middle;\n    }\n\n    .dataframe tbody tr th {\n        vertical-align: top;\n    }\n\n    .dataframe thead th {\n        text-align: right;\n    }\n</style>\n<table border=\"1\" class=\"dataframe\">\n  <thead>\n    <tr style=\"text-align: right;\">\n      <th></th>\n      <th>Dnr</th>\n      <th>Ärendeår</th>\n      <th>Efternamn</th>\n      <th>Förnamn</th>\n      <th>Kön</th>\n      <th>Medelsförvaltare</th>\n      <th>Beslut</th>\n      <th>Klustrad bidragsform</th>\n      <th>Bidragsform</th>\n      <th>Inriktning</th>\n      <th>...</th>\n      <th>Beslutsorgan (ÄRK)</th>\n      <th>Ämnesområde</th>\n      <th>HuvudBG</th>\n      <th>Alla SCBkoder</th>\n      <th>TotalBevBelopp</th>\n      <th>Antal Beviljade År</th>\n      <th>ProjekttitelSv</th>\n      <th>ProjekttitelEn</th>\n      <th>Nyckelord</th>\n      <th>NID</th>\n    </tr>\n  </thead>\n  <tbody>\n    <tr>\n      <th>1</th>\n      <td>2016-00992</td>\n      <td>2016</td>\n      <td>Swanberg</td>\n      <td>Maria</td>\n      <td>Kvinna</td>\n      <td>Lunds universitet</td>\n      <td>Avslag</td>\n      <td>Etablering - Unga forskare</td>\n      <td>Etableringsbidrag</td>\n      <td>Fri</td>\n      <td>...</td>\n      <td>Ämnesrådet för medicin och hälsa</td>\n      <td>MH</td>\n      <td>MH-D1</td>\n      <td>30105, 30107, 30207</td>\n      <td>NaN</td>\n      <td>0</td>\n      <td>Identifiering av genetiska riskfaktorer för Pa...</td>\n      <td>Identification of genetic risk factors for Par...</td>\n      <td>Parkinson´s sjukdom, Komplex genetik, Neurodeg...</td>\n      <td>2.0</td>\n    </tr>\n    <tr>\n      <th>3090</th>\n      <td>2013-03310</td>\n      <td>2013</td>\n      <td>Swanberg</td>\n      <td>Maria</td>\n      <td>Kvinna</td>\n      <td>Lunds universitet</td>\n      <td>Avslag</td>\n      <td>Projektbidrag</td>\n      <td>Projektbidrag</td>\n      <td>Alternativa metoder till djurförsök enligt 3R-...</td>\n      <td>...</td>\n      <td>Ämnesrådet för medicin och hälsa</td>\n      <td>MH</td>\n      <td>MH-3R</td>\n      <td>30105, 30107, 30108</td>\n      <td>0.0</td>\n      <td>0</td>\n      <td>Nya cellbaserade genetiska modeller för neurod...</td>\n      <td>Nya cellbaserade genetiska modeller för neurod...</td>\n      <td>Idiopathic Parkinson´s Disease; Genetic Variat...</td>\n      <td>2.0</td>\n    </tr>\n    <tr>\n      <th>23396</th>\n      <td>2012-02563</td>\n      <td>2012</td>\n      <td>Swanberg</td>\n      <td>Maria</td>\n      <td>Kvinna</td>\n      <td>Lunds universitet</td>\n      <td>Avslag</td>\n      <td>Etablering - Unga forskare</td>\n      <td>Projektbidrag Unga forskare</td>\n      <td>Fri</td>\n      <td>...</td>\n      <td>Ämnesrådet för medicin och hälsa</td>\n      <td>MH</td>\n      <td>MH-Ung, MH-Ung1</td>\n      <td>30105, 30107 ,</td>\n      <td>0.0</td>\n      <td>0</td>\n      <td>Den komplexa genetiken bakom nervcellsdöd och ...</td>\n      <td>The Complex Genetics of Neurodegeneration and ...</td>\n      <td>Parkinson disease; Neurodegenerative diseases;...</td>\n      <td>2.0</td>\n    </tr>\n    <tr>\n      <th>24350</th>\n      <td>2013-03354</td>\n      <td>2013</td>\n      <td>Swanberg</td>\n      <td>Maria</td>\n      <td>Kvinna</td>\n      <td>Lunds universitet</td>\n      <td>Avslag</td>\n      <td>Etablering - Unga forskare</td>\n      <td>Projektbidrag Unga forskare</td>\n      <td>Fri</td>\n      <td>...</td>\n      <td>Ämnesrådet för medicin och hälsa</td>\n      <td>MH</td>\n      <td>MH-D1</td>\n      <td>30105, 30107 ,</td>\n      <td>0.0</td>\n      <td>0</td>\n      <td>IDENTIFIERING AV GENETISKA RISKFAKTORER BAKOM ...</td>\n      <td>IDENTIFYING COMPLEX GENETIC RISK FACTORS BEHIN...</td>\n      <td>Parkinson´s disease; Neurodegenerative disease...</td>\n      <td>2.0</td>\n    </tr>\n    <tr>\n      <th>25617</th>\n      <td>2014-03636</td>\n      <td>2014</td>\n      <td>Swanberg</td>\n      <td>Maria</td>\n      <td>Kvinna</td>\n      <td>Lunds universitet</td>\n      <td>Avslag</td>\n      <td>Etablering - Unga forskare</td>\n      <td>Projektbidrag Unga forskare</td>\n      <td>Fri</td>\n      <td>...</td>\n      <td>Ämnesrådet för medicin och hälsa</td>\n      <td>MH</td>\n      <td>MH-D1</td>\n      <td>30105, 30107, 30110</td>\n      <td>NaN</td>\n      <td>0</td>\n      <td>Identifiering av nya genetiska riskfaktorer fö...</td>\n      <td>Identification of novel genetic risk factors f...</td>\n      <td>Parkinson´s disease; Genetic research; Neurode...</td>\n      <td>2.0</td>\n    </tr>\n    <tr>\n      <th>26484</th>\n      <td>2015-03376</td>\n      <td>2015</td>\n      <td>Swanberg</td>\n      <td>Maria</td>\n      <td>Kvinna</td>\n      <td>Lunds universitet</td>\n      <td>Avslag</td>\n      <td>Etablering - Unga forskare</td>\n      <td>Projektbidrag Unga forskare</td>\n      <td>Fri</td>\n      <td>...</td>\n      <td>Ämnesrådet för medicin och hälsa</td>\n      <td>MH</td>\n      <td>MH-D1</td>\n      <td>30105, 30107, 30207</td>\n      <td>0.0</td>\n      <td>0</td>\n      <td>Identifiering av genetiska riskfaktorer bakom ...</td>\n      <td>Translational identification of novel genetic ...</td>\n      <td>Komplex genetik, Neurodegeneration, Neuroinfla...</td>\n      <td>2.0</td>\n    </tr>\n  </tbody>\n</table>\n<p>6 rows × 22 columns</p>\n</div>"
     },
     "execution_count": 7,
     "metadata": {},
     "output_type": "execute_result"
    }
   ],
   "source": [
    "VR.loc[VR[\"NID\"] == 2,]\n",
    "#VR_backup = VR"
   ],
   "metadata": {
    "collapsed": false,
    "pycharm": {
     "name": "#%%\n"
    }
   }
  },
  {
   "cell_type": "code",
   "execution_count": 8,
   "outputs": [
    {
     "name": "stdout",
     "output_type": "stream",
     "text": [
      "1570     [10606, 10609, 10615]\n",
      "1699            [30109, 30108]\n",
      "1877     [10606, 10609, 10615]\n",
      "2122                        []\n",
      "3600            [20304, 20599]\n",
      "5450     [10403, 10402, 21001]\n",
      "9977     [21001, 20502, 10403]\n",
      "11449           [50203, 50201]\n",
      "14516    [20602, 20502, 21001]\n",
      "19840                       []\n",
      "20493    [10499, 10403, 10601]\n",
      "22026           [50202, 50201]\n",
      "23632    [20304, 20306, 20599]\n",
      "24446    [20304, 20306, 20599]\n",
      "25790    [20499, 10404, 20304]\n",
      "25860    [10602, 10611, 10615]\n",
      "Name: Alla SCBkoder, dtype: object\n"
     ]
    }
   ],
   "source": [
    "for NID in RA.loc[:,'ID'][1315:1316]:\n",
    "    researchers = VR.loc[VR[\"NID\"] == NID,]\n",
    "\n",
    "    # convert the scb codes from strings to lists, using str method\n",
    "    ## extract the column\n",
    "    scb_strings = researchers['Alla SCBkoder']\n",
    "    ## remove spaces by .str, followed by method\n",
    "    scb_strings = scb_strings.str.translate({ord(i):None for i in \" \"})\n",
    "    ## remove trailing commas\n",
    "    def remove_trailing_comma(string):\n",
    "        try:\n",
    "            if math.isnan(string):\n",
    "                return \"\"\n",
    "        except:\n",
    "            if string[-1] == \",\":\n",
    "                return string[:-1]\n",
    "            else:\n",
    "                return string\n",
    "\n",
    "\n",
    "    scb_strings = scb_strings.apply(remove_trailing_comma)\n",
    "    ## split the string into a list, delim comma\n",
    "    scb_strings = scb_strings.str.split(\",\")\n",
    "\n",
    "    print(scb_strings)"
   ],
   "metadata": {
    "collapsed": false,
    "pycharm": {
     "name": "#%%\n"
    }
   }
  },
  {
   "cell_type": "markdown",
   "source": [
    "## Group matching SCB Codes\n",
    "\n",
    "The grouping Algorithm:\n",
    "- Make group of the most common SCB code.\n",
    "- iterate to the next most common group and see if researchers are subset of first group, if they are a subset, join first group, otherwise, make a new group.\n",
    "- iterate until all applications have been grouped."
   ],
   "metadata": {
    "collapsed": false,
    "pycharm": {
     "name": "#%% md\n"
    }
   }
  },
  {
   "cell_type": "code",
   "execution_count": 10,
   "outputs": [],
   "source": [
    "for NID in RA.loc[RA['ID'] == 1316,'ID']:# Martin Andersson\n",
    "\n",
    "#for NID in RA.loc[:,'ID']:\n",
    "    researchers = VR.loc[VR[\"NID\"] == NID,]\n",
    "\n",
    "    # convert the scb codes from strings to lists, using str method\n",
    "    ## extract the column\n",
    "    scb_strings = researchers['Alla SCBkoder'].astype(str)\n",
    "    ## remove spaces by .str, followed by method\n",
    "    #print(scb_strings)\n",
    "    scb_strings = scb_strings.str.translate({ord(i):None for i in \" \"})\n",
    "    ## remove trailing commas\n",
    "    def remove_trailing_comma(string):\n",
    "        if pd.isnull(string):\n",
    "            return \"\"\n",
    "        elif string in [\"\", None]:\n",
    "            return \"\"\n",
    "        else:\n",
    "            try:\n",
    "                if string[-1] == \",\":\n",
    "                    return string[:-1]\n",
    "                else:\n",
    "                    return string\n",
    "            except:\n",
    "                print(string)\n",
    "                raise ValueError(\"BINGO\")\n",
    "\n",
    "    scb_strings = scb_strings.apply(remove_trailing_comma)\n",
    "    ## split the string into a list, delim comma\n",
    "    scb_strings = scb_strings.str.split(\",\")\n",
    "\n",
    "    all_codes_present = list(set([val for sublist in scb_strings.values for val in sublist]))\n",
    "    #print(f\"\\nALL SCB CODES: {all_codes_present}\\n\")\n",
    "\n",
    "    # Make the scb_df\n",
    "    scb_df = pd.DataFrame({\"list\": scb_strings})\n",
    "\n",
    "    # write function that makes dummy\n",
    "    def make_dummy(list, code):\n",
    "        if code in list:\n",
    "            return 1\n",
    "        else:\n",
    "            return 0\n",
    "\n",
    "    # Now make dummies for each present code\n",
    "    for code in all_codes_present:\n",
    "        scb_df[code] = scb_df['list'].apply(make_dummy, args=([code]))\n",
    "    #print(scb_df)\n",
    "\n",
    "    # Aggregate count of codes\n",
    "    agg_df = pd.DataFrame([{'code': code, 'count': scb_df[code].sum()} for code in all_codes_present ]).sort_values('count', ascending=False)\n",
    "    #print(agg_df)\n",
    "\n",
    "    # grouping Algorithm\n",
    "    group_id = 1\n",
    "    completed_codes = []\n",
    "    for code, count in agg_df.values:\n",
    "        # if the no groups have been assigned yet, automatically set the first group\n",
    "        if group_id == 1:\n",
    "            scb_df.loc[scb_df[code] == 1, 'group'] = group_id\n",
    "            group_id += 1\n",
    "        else:\n",
    "            # check if researchers with code are subsets of other groups\n",
    "            # also hide disregard researchers with no scb codes for now, they will be appended last\n",
    "            iter_group = scb_df.loc[((scb_df[code] == 1) & (scb_df['list'].str.len().gt(1))),:]\n",
    "            #iter_group = scb_df.loc[(scb_df[code] == 1),:]\n",
    "            complement = iter_group\n",
    "            for cc in completed_codes:\n",
    "                complement = complement.loc[complement[cc] == 0]\n",
    "            # if all of the researchers in the itergroup have already been grouped, skip\n",
    "            if complement.empty:\n",
    "                continue\n",
    "            else:\n",
    "                # Here we are left with researcher under the current code, that have not been grouped yet.\n",
    "                # if soft grouping, add the researcher to existing group that has the current code as a secondary code.\n",
    "                # but only if just one of the existing groups has the current code. If the current code is in two groups, then\n",
    "                # we cannot be sure and add it as a separate group..\n",
    "                soft_grouping = True\n",
    "                if soft_grouping:\n",
    "                    # Which groups have the current code?\n",
    "                    x = scb_df.loc[((~scb_df['group'].isnull()) & (scb_df[code] == 1)), :]\n",
    "                    if not x.empty:\n",
    "                        # here we determine how many groups feature the code\n",
    "                        groups_with_code = list(set(x['group'].values))\n",
    "                        if len(groups_with_code) == 1:\n",
    "                            # if just one group has the code, add the complement researchers to the group\n",
    "                            scb_df.loc[complement.index, \"group\"] = groups_with_code[0]\n",
    "                            continue\n",
    "                        else:\n",
    "                            scb_df.loc[complement.index, \"group\"] = group_id\n",
    "                    else:\n",
    "                        scb_df.loc[complement.index, \"group\"] = group_id\n",
    "                else:\n",
    "                    scb_df.loc[complement.index, \"group\"] = group_id\n",
    "\n",
    "                group_id += 1\n",
    "\n",
    "        completed_codes.append(code)\n",
    "\n",
    "    # add the researchers without SCB codes as the last observations\n",
    "    for i in scb_df.loc[scb_df['group'].isnull(),:].index:\n",
    "        scb_df.loc[i, 'group'] = group_id\n",
    "        group_id += 1\n",
    "\n",
    "    # look at the output\n",
    "    #print(scb_df[['list', 'group']].sort_values('group'))\n",
    "\n",
    "    # now add the NIDs and groups to the VR df\n",
    "    conf_df = scb_df[['list', 'group']].sort_values('group')\n",
    "    VR.loc[conf_df.index, 'NID'] = NID\n",
    "    VR.loc[conf_df.index, 'group'] = conf_df['group']\n",
    "\n"
   ],
   "metadata": {
    "collapsed": false,
    "pycharm": {
     "name": "#%%\n"
    }
   }
  },
  {
   "cell_type": "code",
   "execution_count": 16,
   "outputs": [
    {
     "data": {
      "text/plain": "          NID  group         Dnr  Ärendeår  Efternamn Förnamn  Kön  \\\n3600   1316.0    1.0  2015-05691      2015  Andersson  Martin  Man   \n23632  1316.0    1.0  2012-03783      2012  Andersson  Martin  Man   \n24446  1316.0    1.0  2013-03715      2013  Andersson  Martin  Man   \n25790  1316.0    1.0  2014-04524      2014  Andersson  Martin  Man   \n1570   1316.0    2.0  2013-07512      2013  Andersson  Martin  Man   \n1877   1316.0    2.0  2014-06714      2014  Andersson  Martin  Man   \n25860  1316.0    2.0  2014-04778      2014  Andersson  Martin  Man   \n5450   1316.0    3.0  2012-03181      2012  Andersson  Martin  Man   \n9977   1316.0    3.0  2013-05386      2013  Andersson  Martin  Man   \n14516  1316.0    3.0  2014-06217      2014  Andersson  Martin  Man   \n20493  1316.0    3.0  2016-03655      2016  Andersson  Martin  Man   \n11449  1316.0    4.0  2014-01392      2014  Andersson  Martin  Man   \n22026  1316.0    4.0  2016-02746      2016  Andersson  Martin  Man   \n1699   1316.0    5.0  2014-00342      2014  Andersson  Martin  Man   \n2122   1316.0    6.0  2015-00211      2015  Andersson  Martin  Man   \n19840  1316.0    7.0  2016-02723      2016  Andersson  Martin  Man   \n\n                 Medelsförvaltare    Beslut        Klustrad bidragsform  ...  \\\n3600            Lunds universitet    Avslag               Projektbidrag  ...   \n23632           Lunds universitet    Avslag  Etablering - Unga forskare  ...   \n24446           Lunds universitet    Avslag  Etablering - Unga forskare  ...   \n25790           Lunds universitet    Avslag  Etablering - Unga forskare  ...   \n1570            Lunds universitet    Avslag                     Postdok  ...   \n1877            Lunds universitet    Avslag                     Postdok  ...   \n25860           Lunds universitet    Avslag  Etablering - Unga forskare  ...   \n5450   Chalmers tekniska högskola    Avslag               Projektbidrag  ...   \n9977   Chalmers tekniska högskola    Avslag               Projektbidrag  ...   \n14516  Chalmers tekniska högskola    Avslag               Projektbidrag  ...   \n20493  Chalmers tekniska högskola  Beviljad               Projektbidrag  ...   \n11449           Lunds universitet    Avslag               Projektbidrag  ...   \n22026  Blekinge Tekniska Högskola    Avslag               Projektbidrag  ...   \n1699            Lunds universitet    Avslag                     Postdok  ...   \n2122            Lunds universitet    Avslag                     Postdok  ...   \n19840           Lunds universitet    Avslag               Projektbidrag  ...   \n\n      Stödform (fr om 2016)  \\\n3600            Projektstöd   \n23632           Projektstöd   \n24446           Projektstöd   \n25790           Projektstöd   \n1570            Karriärstöd   \n1877            Karriärstöd   \n25860           Projektstöd   \n5450            Projektstöd   \n9977            Projektstöd   \n14516           Projektstöd   \n20493           Projektstöd   \n11449           Projektstöd   \n22026           Projektstöd   \n1699            Karriärstöd   \n2122            Karriärstöd   \n19840           Projektstöd   \n\n                                      Beslutsorgan (ÄRK) Ämnesområde  \\\n3600   Ämnesrådet för naturvetenskap och teknikvetenskap          NT   \n23632  Ämnesrådet för naturvetenskap och teknikvetenskap          NT   \n24446  Ämnesrådet för naturvetenskap och teknikvetenskap          NT   \n25790  Ämnesrådet för naturvetenskap och teknikvetenskap          NT   \n1570                                     Vetenskapsrådet          MH   \n1877                                     Vetenskapsrådet          NT   \n25860  Ämnesrådet för naturvetenskap och teknikvetenskap          NT   \n5450   Ämnesrådet för naturvetenskap och teknikvetenskap          NT   \n9977   Ämnesrådet för naturvetenskap och teknikvetenskap          NT   \n14516  Ämnesrådet för naturvetenskap och teknikvetenskap          NT   \n20493  Ämnesrådet för naturvetenskap och teknikvetenskap          NT   \n11449     Ämnesrådet för humaniora och samhällsvetenskap          HS   \n22026     Ämnesrådet för humaniora och samhällsvetenskap          HS   \n1699                                     Vetenskapsrådet          MH   \n2122                                     Vetenskapsrådet          MH   \n19840     Ämnesrådet för humaniora och samhällsvetenskap          HS   \n\n        HuvudBG        Alla SCBkoder TotalBevBelopp Antal Beviljade År  \\\n3600   NT-EN-18       20304, 20599 ,            0.0             Energi   \n23632     NT-D4  20304, 20306, 20599            0.0                  0   \n24446     NT-16  20304, 20306, 20599            0.0                  0   \n25790     NT-17  20499, 10404, 20304            NaN                  0   \n1570   VR-mhPDh  10606, 10609, 10615            0.0                  0   \n1877   VR-ntPDh  10606, 10609, 10615            NaN                  0   \n25860     NT-11  10602, 10611, 10615            NaN                  0   \n5450       NT-Q  10403, 10402, 21001            0.0                  0   \n9977      NT-18  21001, 20502, 10403            0.0                  0   \n14516     NT-19  20602, 20502, 21001            NaN                  0   \n20493     NT-18  10499, 10403, 10601      4100000.0                  4   \n11449      HS-B       50203, 50201 ,            NaN                  0   \n22026   HS-TILL       50202, 50201 ,            NaN                  0   \n1699   VR-mhPDv       30109, 30108 ,            NaN                  0   \n2122    IPD-MH1                30401            0.0                  0   \n19840      HS-B                50203            NaN                  0   \n\n                                          ProjekttitelSv  \\\n3600   Polymerelektrolytmembranbränslecellens Vattenh...   \n23632  Flerskalig modellering innefattande transportf...   \n24446  Flerskalig modeling av transportfenomen, kemis...   \n25790  Förbättring av Fastoxidbränslecellens Prestand...   \n1570   Infektionssjukdomars genetiska diversitet - Hu...   \n1877   Vilken roll spelar samarbete mellan Borreliast...   \n25860  EN SKOG AV LUKTER: LIKA ELLER OLIKA NÄSOR? -En...   \n5450                              Benliknande kompositer   \n9977                          Meso-ordnade benkompositer   \n14516   Stamcellsrekryterande Proteinbaserade Kompositer   \n20493                       Proteinstruktur med atomsond   \n11449  Utvecklingsländer på frammarsch - mönster av u...   \n22026  Näringslivets forskning och tillväxt: Betydels...   \n1699   Infektionsframgång hos den fästingöverförda pa...   \n2122   Nya fästingburna sjukdomar - förbisedda hot mo...   \n19840  Inkluderande tillväxt? Landsbygdshushållens in...   \n\n                                          ProjekttitelEn  \\\n3600   Polymer Electrolyte Membrane Fuel Cell Water M...   \n23632  Multiphysics and Multiscale Modeling of Transp...   \n24446  Multiphysics and Multiscale Modeling of Transp...   \n25790  Improvement of the Solid Oxide Fuel Cell Perfo...   \n1570   The genetic diversity of infectious diseases -...   \n1877   The role of co-operating Borrelia strains in s...   \n25860  A FOREST OF SMELLS: THE SAME OR DIFFERENT NOSE...   \n5450                                Bone-like composites   \n9977                        Meso-ordered bone composites   \n14516  Stem Cell Recruiting Engineered Protein-based ...   \n20493                   Atom Probe Tomography Proteomics   \n11449  Why nations catch up: Explaining patterns of l...   \n22026  Business R&D and growth: The role of universit...   \n1699   Transmission efficiency the tick transmitted L...   \n2122   Novel tick-borne diseases  - overlooked threat...   \n19840  Inclusive catching up? Understanding household...   \n\n                                               Nyckelord  \n3600   Polymer Electrolyte Mebrane Fuel Cell, Water D...  \n23632  SOFC; modeling; electrochemical reactions; mul...  \n24446  SOFC; modeling; electrochemical reactions; mul...  \n25790  SOFC; multiscale modeling; multiphysics modeli...  \n1570   Borrelia; ticks; reservoir host; genetic diver...  \n1877   Borrelia; multiple infection; ticks; zoonotic;...  \n25860  Odorant receptor; Insect olfaction; Heterologo...  \n5450                                                   0  \n9977        Bone; Nano; Apatite; Composite; Meso-ordered  \n14516   Biomaterials; Tissue regeneration; Drug-delivery  \n20493  Protein structure, Atom Probe Tomography, Sili...  \n11449  catching up; convergence; social capability; d...  \n22026  FoU i stora och små företag, Tillväxt och inno...  \n1699     Borrelia; ticks; zoonoses; vector-borne disease  \n2122   Neoehrlichia, fästingburna sjukdomar, genomsek...  \n19840  Ekonomisk tillväxt, Inkomstfördelning, Struktu...  \n\n[16 rows x 23 columns]",
      "text/html": "<div>\n<style scoped>\n    .dataframe tbody tr th:only-of-type {\n        vertical-align: middle;\n    }\n\n    .dataframe tbody tr th {\n        vertical-align: top;\n    }\n\n    .dataframe thead th {\n        text-align: right;\n    }\n</style>\n<table border=\"1\" class=\"dataframe\">\n  <thead>\n    <tr style=\"text-align: right;\">\n      <th></th>\n      <th>NID</th>\n      <th>group</th>\n      <th>Dnr</th>\n      <th>Ärendeår</th>\n      <th>Efternamn</th>\n      <th>Förnamn</th>\n      <th>Kön</th>\n      <th>Medelsförvaltare</th>\n      <th>Beslut</th>\n      <th>Klustrad bidragsform</th>\n      <th>...</th>\n      <th>Stödform (fr om 2016)</th>\n      <th>Beslutsorgan (ÄRK)</th>\n      <th>Ämnesområde</th>\n      <th>HuvudBG</th>\n      <th>Alla SCBkoder</th>\n      <th>TotalBevBelopp</th>\n      <th>Antal Beviljade År</th>\n      <th>ProjekttitelSv</th>\n      <th>ProjekttitelEn</th>\n      <th>Nyckelord</th>\n    </tr>\n  </thead>\n  <tbody>\n    <tr>\n      <th>3600</th>\n      <td>1316.0</td>\n      <td>1.0</td>\n      <td>2015-05691</td>\n      <td>2015</td>\n      <td>Andersson</td>\n      <td>Martin</td>\n      <td>Man</td>\n      <td>Lunds universitet</td>\n      <td>Avslag</td>\n      <td>Projektbidrag</td>\n      <td>...</td>\n      <td>Projektstöd</td>\n      <td>Ämnesrådet för naturvetenskap och teknikvetenskap</td>\n      <td>NT</td>\n      <td>NT-EN-18</td>\n      <td>20304, 20599 ,</td>\n      <td>0.0</td>\n      <td>Energi</td>\n      <td>Polymerelektrolytmembranbränslecellens Vattenh...</td>\n      <td>Polymer Electrolyte Membrane Fuel Cell Water M...</td>\n      <td>Polymer Electrolyte Mebrane Fuel Cell, Water D...</td>\n    </tr>\n    <tr>\n      <th>23632</th>\n      <td>1316.0</td>\n      <td>1.0</td>\n      <td>2012-03783</td>\n      <td>2012</td>\n      <td>Andersson</td>\n      <td>Martin</td>\n      <td>Man</td>\n      <td>Lunds universitet</td>\n      <td>Avslag</td>\n      <td>Etablering - Unga forskare</td>\n      <td>...</td>\n      <td>Projektstöd</td>\n      <td>Ämnesrådet för naturvetenskap och teknikvetenskap</td>\n      <td>NT</td>\n      <td>NT-D4</td>\n      <td>20304, 20306, 20599</td>\n      <td>0.0</td>\n      <td>0</td>\n      <td>Flerskalig modellering innefattande transportf...</td>\n      <td>Multiphysics and Multiscale Modeling of Transp...</td>\n      <td>SOFC; modeling; electrochemical reactions; mul...</td>\n    </tr>\n    <tr>\n      <th>24446</th>\n      <td>1316.0</td>\n      <td>1.0</td>\n      <td>2013-03715</td>\n      <td>2013</td>\n      <td>Andersson</td>\n      <td>Martin</td>\n      <td>Man</td>\n      <td>Lunds universitet</td>\n      <td>Avslag</td>\n      <td>Etablering - Unga forskare</td>\n      <td>...</td>\n      <td>Projektstöd</td>\n      <td>Ämnesrådet för naturvetenskap och teknikvetenskap</td>\n      <td>NT</td>\n      <td>NT-16</td>\n      <td>20304, 20306, 20599</td>\n      <td>0.0</td>\n      <td>0</td>\n      <td>Flerskalig modeling av transportfenomen, kemis...</td>\n      <td>Multiphysics and Multiscale Modeling of Transp...</td>\n      <td>SOFC; modeling; electrochemical reactions; mul...</td>\n    </tr>\n    <tr>\n      <th>25790</th>\n      <td>1316.0</td>\n      <td>1.0</td>\n      <td>2014-04524</td>\n      <td>2014</td>\n      <td>Andersson</td>\n      <td>Martin</td>\n      <td>Man</td>\n      <td>Lunds universitet</td>\n      <td>Avslag</td>\n      <td>Etablering - Unga forskare</td>\n      <td>...</td>\n      <td>Projektstöd</td>\n      <td>Ämnesrådet för naturvetenskap och teknikvetenskap</td>\n      <td>NT</td>\n      <td>NT-17</td>\n      <td>20499, 10404, 20304</td>\n      <td>NaN</td>\n      <td>0</td>\n      <td>Förbättring av Fastoxidbränslecellens Prestand...</td>\n      <td>Improvement of the Solid Oxide Fuel Cell Perfo...</td>\n      <td>SOFC; multiscale modeling; multiphysics modeli...</td>\n    </tr>\n    <tr>\n      <th>1570</th>\n      <td>1316.0</td>\n      <td>2.0</td>\n      <td>2013-07512</td>\n      <td>2013</td>\n      <td>Andersson</td>\n      <td>Martin</td>\n      <td>Man</td>\n      <td>Lunds universitet</td>\n      <td>Avslag</td>\n      <td>Postdok</td>\n      <td>...</td>\n      <td>Karriärstöd</td>\n      <td>Vetenskapsrådet</td>\n      <td>MH</td>\n      <td>VR-mhPDh</td>\n      <td>10606, 10609, 10615</td>\n      <td>0.0</td>\n      <td>0</td>\n      <td>Infektionssjukdomars genetiska diversitet - Hu...</td>\n      <td>The genetic diversity of infectious diseases -...</td>\n      <td>Borrelia; ticks; reservoir host; genetic diver...</td>\n    </tr>\n    <tr>\n      <th>1877</th>\n      <td>1316.0</td>\n      <td>2.0</td>\n      <td>2014-06714</td>\n      <td>2014</td>\n      <td>Andersson</td>\n      <td>Martin</td>\n      <td>Man</td>\n      <td>Lunds universitet</td>\n      <td>Avslag</td>\n      <td>Postdok</td>\n      <td>...</td>\n      <td>Karriärstöd</td>\n      <td>Vetenskapsrådet</td>\n      <td>NT</td>\n      <td>VR-ntPDh</td>\n      <td>10606, 10609, 10615</td>\n      <td>NaN</td>\n      <td>0</td>\n      <td>Vilken roll spelar samarbete mellan Borreliast...</td>\n      <td>The role of co-operating Borrelia strains in s...</td>\n      <td>Borrelia; multiple infection; ticks; zoonotic;...</td>\n    </tr>\n    <tr>\n      <th>25860</th>\n      <td>1316.0</td>\n      <td>2.0</td>\n      <td>2014-04778</td>\n      <td>2014</td>\n      <td>Andersson</td>\n      <td>Martin</td>\n      <td>Man</td>\n      <td>Lunds universitet</td>\n      <td>Avslag</td>\n      <td>Etablering - Unga forskare</td>\n      <td>...</td>\n      <td>Projektstöd</td>\n      <td>Ämnesrådet för naturvetenskap och teknikvetenskap</td>\n      <td>NT</td>\n      <td>NT-11</td>\n      <td>10602, 10611, 10615</td>\n      <td>NaN</td>\n      <td>0</td>\n      <td>EN SKOG AV LUKTER: LIKA ELLER OLIKA NÄSOR? -En...</td>\n      <td>A FOREST OF SMELLS: THE SAME OR DIFFERENT NOSE...</td>\n      <td>Odorant receptor; Insect olfaction; Heterologo...</td>\n    </tr>\n    <tr>\n      <th>5450</th>\n      <td>1316.0</td>\n      <td>3.0</td>\n      <td>2012-03181</td>\n      <td>2012</td>\n      <td>Andersson</td>\n      <td>Martin</td>\n      <td>Man</td>\n      <td>Chalmers tekniska högskola</td>\n      <td>Avslag</td>\n      <td>Projektbidrag</td>\n      <td>...</td>\n      <td>Projektstöd</td>\n      <td>Ämnesrådet för naturvetenskap och teknikvetenskap</td>\n      <td>NT</td>\n      <td>NT-Q</td>\n      <td>10403, 10402, 21001</td>\n      <td>0.0</td>\n      <td>0</td>\n      <td>Benliknande kompositer</td>\n      <td>Bone-like composites</td>\n      <td>0</td>\n    </tr>\n    <tr>\n      <th>9977</th>\n      <td>1316.0</td>\n      <td>3.0</td>\n      <td>2013-05386</td>\n      <td>2013</td>\n      <td>Andersson</td>\n      <td>Martin</td>\n      <td>Man</td>\n      <td>Chalmers tekniska högskola</td>\n      <td>Avslag</td>\n      <td>Projektbidrag</td>\n      <td>...</td>\n      <td>Projektstöd</td>\n      <td>Ämnesrådet för naturvetenskap och teknikvetenskap</td>\n      <td>NT</td>\n      <td>NT-18</td>\n      <td>21001, 20502, 10403</td>\n      <td>0.0</td>\n      <td>0</td>\n      <td>Meso-ordnade benkompositer</td>\n      <td>Meso-ordered bone composites</td>\n      <td>Bone; Nano; Apatite; Composite; Meso-ordered</td>\n    </tr>\n    <tr>\n      <th>14516</th>\n      <td>1316.0</td>\n      <td>3.0</td>\n      <td>2014-06217</td>\n      <td>2014</td>\n      <td>Andersson</td>\n      <td>Martin</td>\n      <td>Man</td>\n      <td>Chalmers tekniska högskola</td>\n      <td>Avslag</td>\n      <td>Projektbidrag</td>\n      <td>...</td>\n      <td>Projektstöd</td>\n      <td>Ämnesrådet för naturvetenskap och teknikvetenskap</td>\n      <td>NT</td>\n      <td>NT-19</td>\n      <td>20602, 20502, 21001</td>\n      <td>NaN</td>\n      <td>0</td>\n      <td>Stamcellsrekryterande Proteinbaserade Kompositer</td>\n      <td>Stem Cell Recruiting Engineered Protein-based ...</td>\n      <td>Biomaterials; Tissue regeneration; Drug-delivery</td>\n    </tr>\n    <tr>\n      <th>20493</th>\n      <td>1316.0</td>\n      <td>3.0</td>\n      <td>2016-03655</td>\n      <td>2016</td>\n      <td>Andersson</td>\n      <td>Martin</td>\n      <td>Man</td>\n      <td>Chalmers tekniska högskola</td>\n      <td>Beviljad</td>\n      <td>Projektbidrag</td>\n      <td>...</td>\n      <td>Projektstöd</td>\n      <td>Ämnesrådet för naturvetenskap och teknikvetenskap</td>\n      <td>NT</td>\n      <td>NT-18</td>\n      <td>10499, 10403, 10601</td>\n      <td>4100000.0</td>\n      <td>4</td>\n      <td>Proteinstruktur med atomsond</td>\n      <td>Atom Probe Tomography Proteomics</td>\n      <td>Protein structure, Atom Probe Tomography, Sili...</td>\n    </tr>\n    <tr>\n      <th>11449</th>\n      <td>1316.0</td>\n      <td>4.0</td>\n      <td>2014-01392</td>\n      <td>2014</td>\n      <td>Andersson</td>\n      <td>Martin</td>\n      <td>Man</td>\n      <td>Lunds universitet</td>\n      <td>Avslag</td>\n      <td>Projektbidrag</td>\n      <td>...</td>\n      <td>Projektstöd</td>\n      <td>Ämnesrådet för humaniora och samhällsvetenskap</td>\n      <td>HS</td>\n      <td>HS-B</td>\n      <td>50203, 50201 ,</td>\n      <td>NaN</td>\n      <td>0</td>\n      <td>Utvecklingsländer på frammarsch - mönster av u...</td>\n      <td>Why nations catch up: Explaining patterns of l...</td>\n      <td>catching up; convergence; social capability; d...</td>\n    </tr>\n    <tr>\n      <th>22026</th>\n      <td>1316.0</td>\n      <td>4.0</td>\n      <td>2016-02746</td>\n      <td>2016</td>\n      <td>Andersson</td>\n      <td>Martin</td>\n      <td>Man</td>\n      <td>Blekinge Tekniska Högskola</td>\n      <td>Avslag</td>\n      <td>Projektbidrag</td>\n      <td>...</td>\n      <td>Projektstöd</td>\n      <td>Ämnesrådet för humaniora och samhällsvetenskap</td>\n      <td>HS</td>\n      <td>HS-TILL</td>\n      <td>50202, 50201 ,</td>\n      <td>NaN</td>\n      <td>0</td>\n      <td>Näringslivets forskning och tillväxt: Betydels...</td>\n      <td>Business R&amp;D and growth: The role of universit...</td>\n      <td>FoU i stora och små företag, Tillväxt och inno...</td>\n    </tr>\n    <tr>\n      <th>1699</th>\n      <td>1316.0</td>\n      <td>5.0</td>\n      <td>2014-00342</td>\n      <td>2014</td>\n      <td>Andersson</td>\n      <td>Martin</td>\n      <td>Man</td>\n      <td>Lunds universitet</td>\n      <td>Avslag</td>\n      <td>Postdok</td>\n      <td>...</td>\n      <td>Karriärstöd</td>\n      <td>Vetenskapsrådet</td>\n      <td>MH</td>\n      <td>VR-mhPDv</td>\n      <td>30109, 30108 ,</td>\n      <td>NaN</td>\n      <td>0</td>\n      <td>Infektionsframgång hos den fästingöverförda pa...</td>\n      <td>Transmission efficiency the tick transmitted L...</td>\n      <td>Borrelia; ticks; zoonoses; vector-borne disease</td>\n    </tr>\n    <tr>\n      <th>2122</th>\n      <td>1316.0</td>\n      <td>6.0</td>\n      <td>2015-00211</td>\n      <td>2015</td>\n      <td>Andersson</td>\n      <td>Martin</td>\n      <td>Man</td>\n      <td>Lunds universitet</td>\n      <td>Avslag</td>\n      <td>Postdok</td>\n      <td>...</td>\n      <td>Karriärstöd</td>\n      <td>Vetenskapsrådet</td>\n      <td>MH</td>\n      <td>IPD-MH1</td>\n      <td>30401</td>\n      <td>0.0</td>\n      <td>0</td>\n      <td>Nya fästingburna sjukdomar - förbisedda hot mo...</td>\n      <td>Novel tick-borne diseases  - overlooked threat...</td>\n      <td>Neoehrlichia, fästingburna sjukdomar, genomsek...</td>\n    </tr>\n    <tr>\n      <th>19840</th>\n      <td>1316.0</td>\n      <td>7.0</td>\n      <td>2016-02723</td>\n      <td>2016</td>\n      <td>Andersson</td>\n      <td>Martin</td>\n      <td>Man</td>\n      <td>Lunds universitet</td>\n      <td>Avslag</td>\n      <td>Projektbidrag</td>\n      <td>...</td>\n      <td>Projektstöd</td>\n      <td>Ämnesrådet för humaniora och samhällsvetenskap</td>\n      <td>HS</td>\n      <td>HS-B</td>\n      <td>50203</td>\n      <td>NaN</td>\n      <td>0</td>\n      <td>Inkluderande tillväxt? Landsbygdshushållens in...</td>\n      <td>Inclusive catching up? Understanding household...</td>\n      <td>Ekonomisk tillväxt, Inkomstfördelning, Struktu...</td>\n    </tr>\n  </tbody>\n</table>\n<p>16 rows × 23 columns</p>\n</div>"
     },
     "execution_count": 16,
     "metadata": {},
     "output_type": "execute_result"
    }
   ],
   "source": [
    "# Rearrange Columns of VR_groups\n",
    "cols = ['NID', 'group'] + list(VR.columns)[:-2]\n",
    "VR_groups = VR.loc[:, cols]\n",
    "VR_groups[VR_groups['NID'] == 1316].sort_values('group', ascending=True)\n",
    "\n",
    "# export 1316\n",
    "# x = VR_groups[VR_groups['NID'] == 1316].sort_values('group', ascending=True)\n",
    "# writer = pd.ExcelWriter('1316.xlsx', engine='xlsxwriter')\n",
    "# x.to_excel(writer, sheet_name=\"Groups\", index=False)\n",
    "#writer.save()\n"
   ],
   "metadata": {
    "collapsed": false,
    "pycharm": {
     "name": "#%%\n"
    }
   }
  },
  {
   "cell_type": "code",
   "execution_count": null,
   "outputs": [],
   "source": [],
   "metadata": {
    "collapsed": false,
    "pycharm": {
     "name": "#%%\n"
    }
   }
  },
  {
   "cell_type": "code",
   "execution_count": 191,
   "outputs": [
    {
     "data": {
      "text/plain": "26          27.0\n27          28.0\n44          45.0\n66          67.0\n68          69.0\n          ...   \n27148    12966.0\n27153      395.0\n27192    11505.0\n27193      726.0\n27204     2903.0\nName: NID, Length: 1623, dtype: float64"
     },
     "execution_count": 191,
     "metadata": {},
     "output_type": "execute_result"
    }
   ],
   "source": [
    "# How many of the NID have more than 1 group?\n",
    "NID_more_one_group = VR_groups.loc[VR_groups['group'] == 2, \"NID\"]  #1623  (good compared to 3500+)"
   ],
   "metadata": {
    "collapsed": false,
    "pycharm": {
     "name": "#%%\n"
    }
   }
  },
  {
   "cell_type": "markdown",
   "source": [
    "Now aggregate again\n",
    "\n",
    "| NID | group | name | surname | app_ids | count | personnummer | year | birth_year | in_sweden | institution\n"
   ],
   "metadata": {
    "collapsed": false,
    "pycharm": {
     "name": "#%% md\n"
    }
   }
  },
  {
   "cell_type": "code",
   "execution_count": 267,
   "outputs": [],
   "source": [
    "summary = VR_groups.groupby(['NID', 'group'])['Dnr'].count().to_frame(name = 'count').reset_index()\n",
    "#out_df\n",
    "\n",
    "# store the total number of groups per NID in the df group_count\n",
    "group_count = summary.groupby(['NID'])['group'].count().to_frame(name = 'count').reset_index()\n",
    "group_count\n",
    "\n",
    "def get_numer_groups(nid):\n",
    "    return group_count.loc[group_count['NID'] == nid, \"count\"].values[0]\n",
    "\n",
    "insert_list = []\n",
    "# now we get all of the app_ids\n",
    "for NID, group, count in summary.values:\n",
    "    sub_df = VR_groups.loc[((VR_groups['NID'] == NID) & (VR_groups['group'] == group)),:]\n",
    "    name = sub_df['Förnamn'].values[0]\n",
    "    surname = sub_df['Efternamn'].values[0]\n",
    "    a_ids = sub_df['Dnr'].values\n",
    "    insert = {\"NID\": NID, \"group\": group, \"total groups\": get_numer_groups(NID), \"Completed\": \"\", \"Not Found\": \"\",  \"name\": name, \"surname\": surname, \"app_ids\": a_ids, \"count\": count}\n",
    "    insert_list.append(insert)\n",
    "\n",
    "out_df = pd.DataFrame(insert_list)"
   ],
   "metadata": {
    "collapsed": false,
    "pycharm": {
     "name": "#%%\n"
    }
   }
  },
  {
   "cell_type": "code",
   "execution_count": 268,
   "outputs": [
    {
     "data": {
      "text/plain": "           NID  group  total groups Completed Not Found             name  \\\n0          1.0    1.0             1                                Amaia   \n1          2.0    1.0             1                                Maria   \n2          3.0    1.0             1                      Christine-Maria   \n3          4.0    1.0             1                                Antti   \n4          5.0    1.0             1                              Ljubica   \n...        ...    ...           ...       ...       ...              ...   \n15356  13542.0    1.0             1                                Alena   \n15357  13543.0    1.0             1                               Holger   \n15358  13544.0    1.0             1                                Dipak   \n15359  13545.0    1.0             1                            Charlotta   \n15360  13546.0    1.0             1                               Khadga   \n\n                  surname                                            app_ids  \\\n0      Calderón-Larrañaga                                       [2016-00981]   \n1                Swanberg  [2016-00992, 2013-03310, 2012-02563, 2013-0335...   \n2                  Horejs                                       [2016-01005]   \n3                 Latvala                                       [2016-01008]   \n4                 Perisic                                       [2016-01016]   \n...                   ...                                                ...   \n15356         Stsiapanava                                       [2015-05578]   \n15357                Kohr                                       [2015-05595]   \n15358               Surie                                       [2015-05602]   \n15359           Wallinder                                       [2015-05605]   \n15360               Karki                                       [2015-05618]   \n\n       count  \n0        1.0  \n1        6.0  \n2        1.0  \n3        1.0  \n4        1.0  \n...      ...  \n15356    1.0  \n15357    1.0  \n15358    1.0  \n15359    1.0  \n15360    1.0  \n\n[15361 rows x 9 columns]",
      "text/html": "<div>\n<style scoped>\n    .dataframe tbody tr th:only-of-type {\n        vertical-align: middle;\n    }\n\n    .dataframe tbody tr th {\n        vertical-align: top;\n    }\n\n    .dataframe thead th {\n        text-align: right;\n    }\n</style>\n<table border=\"1\" class=\"dataframe\">\n  <thead>\n    <tr style=\"text-align: right;\">\n      <th></th>\n      <th>NID</th>\n      <th>group</th>\n      <th>total groups</th>\n      <th>Completed</th>\n      <th>Not Found</th>\n      <th>name</th>\n      <th>surname</th>\n      <th>app_ids</th>\n      <th>count</th>\n    </tr>\n  </thead>\n  <tbody>\n    <tr>\n      <th>0</th>\n      <td>1.0</td>\n      <td>1.0</td>\n      <td>1</td>\n      <td></td>\n      <td></td>\n      <td>Amaia</td>\n      <td>Calderón-Larrañaga</td>\n      <td>[2016-00981]</td>\n      <td>1.0</td>\n    </tr>\n    <tr>\n      <th>1</th>\n      <td>2.0</td>\n      <td>1.0</td>\n      <td>1</td>\n      <td></td>\n      <td></td>\n      <td>Maria</td>\n      <td>Swanberg</td>\n      <td>[2016-00992, 2013-03310, 2012-02563, 2013-0335...</td>\n      <td>6.0</td>\n    </tr>\n    <tr>\n      <th>2</th>\n      <td>3.0</td>\n      <td>1.0</td>\n      <td>1</td>\n      <td></td>\n      <td></td>\n      <td>Christine-Maria</td>\n      <td>Horejs</td>\n      <td>[2016-01005]</td>\n      <td>1.0</td>\n    </tr>\n    <tr>\n      <th>3</th>\n      <td>4.0</td>\n      <td>1.0</td>\n      <td>1</td>\n      <td></td>\n      <td></td>\n      <td>Antti</td>\n      <td>Latvala</td>\n      <td>[2016-01008]</td>\n      <td>1.0</td>\n    </tr>\n    <tr>\n      <th>4</th>\n      <td>5.0</td>\n      <td>1.0</td>\n      <td>1</td>\n      <td></td>\n      <td></td>\n      <td>Ljubica</td>\n      <td>Perisic</td>\n      <td>[2016-01016]</td>\n      <td>1.0</td>\n    </tr>\n    <tr>\n      <th>...</th>\n      <td>...</td>\n      <td>...</td>\n      <td>...</td>\n      <td>...</td>\n      <td>...</td>\n      <td>...</td>\n      <td>...</td>\n      <td>...</td>\n      <td>...</td>\n    </tr>\n    <tr>\n      <th>15356</th>\n      <td>13542.0</td>\n      <td>1.0</td>\n      <td>1</td>\n      <td></td>\n      <td></td>\n      <td>Alena</td>\n      <td>Stsiapanava</td>\n      <td>[2015-05578]</td>\n      <td>1.0</td>\n    </tr>\n    <tr>\n      <th>15357</th>\n      <td>13543.0</td>\n      <td>1.0</td>\n      <td>1</td>\n      <td></td>\n      <td></td>\n      <td>Holger</td>\n      <td>Kohr</td>\n      <td>[2015-05595]</td>\n      <td>1.0</td>\n    </tr>\n    <tr>\n      <th>15358</th>\n      <td>13544.0</td>\n      <td>1.0</td>\n      <td>1</td>\n      <td></td>\n      <td></td>\n      <td>Dipak</td>\n      <td>Surie</td>\n      <td>[2015-05602]</td>\n      <td>1.0</td>\n    </tr>\n    <tr>\n      <th>15359</th>\n      <td>13545.0</td>\n      <td>1.0</td>\n      <td>1</td>\n      <td></td>\n      <td></td>\n      <td>Charlotta</td>\n      <td>Wallinder</td>\n      <td>[2015-05605]</td>\n      <td>1.0</td>\n    </tr>\n    <tr>\n      <th>15360</th>\n      <td>13546.0</td>\n      <td>1.0</td>\n      <td>1</td>\n      <td></td>\n      <td></td>\n      <td>Khadga</td>\n      <td>Karki</td>\n      <td>[2015-05618]</td>\n      <td>1.0</td>\n    </tr>\n  </tbody>\n</table>\n<p>15361 rows × 9 columns</p>\n</div>"
     },
     "execution_count": 268,
     "metadata": {},
     "output_type": "execute_result"
    }
   ],
   "source": [
    "out_df"
   ],
   "metadata": {
    "collapsed": false,
    "pycharm": {
     "name": "#%%\n"
    }
   }
  },
  {
   "cell_type": "markdown",
   "source": [
    "Final Step:\n",
    "- Merge the personnummer, year, birth_year, in_sweden and institution data to the first group of each NID\n",
    "- If there is just one group in the NID and we have all data, mark as completed."
   ],
   "metadata": {
    "collapsed": false,
    "pycharm": {
     "name": "#%% md\n"
    }
   }
  },
  {
   "cell_type": "code",
   "execution_count": 270,
   "outputs": [
    {
     "data": {
      "text/plain": "           NID  group  total groups Completed Not Found             name  \\\n0          1.0    1.0             1                                Amaia   \n1          2.0    1.0             1         x                      Maria   \n2          3.0    1.0             1                      Christine-Maria   \n3          4.0    1.0             1                                Antti   \n4          5.0    1.0             1         x                    Ljubica   \n...        ...    ...           ...       ...       ...              ...   \n15356  13542.0    1.0             1                                Alena   \n15357  13543.0    1.0             1                               Holger   \n15358  13544.0    1.0             1         x                      Dipak   \n15359  13545.0    1.0             1         x                  Charlotta   \n15360  13546.0    1.0             1                               Khadga   \n\n                  surname                                            app_ids  \\\n0      Calderón-Larrañaga                                       [2016-00981]   \n1                Swanberg  [2016-00992, 2013-03310, 2012-02563, 2013-0335...   \n2                  Horejs                                       [2016-01005]   \n3                 Latvala                                       [2016-01008]   \n4                 Perisic                                       [2016-01016]   \n...                   ...                                                ...   \n15356         Stsiapanava                                       [2015-05578]   \n15357                Kohr                                       [2015-05595]   \n15358               Surie                                       [2015-05602]   \n15359           Wallinder                                       [2015-05605]   \n15360               Karki                                       [2015-05618]   \n\n       count personnummer_cv    year  birth_year  in_sweden  \\\n0        1.0   19830529-3386     NaN         NaN        0.0   \n1        6.0   19770510-0241  2007.0      1977.0        1.0   \n2        1.0             NaN     NaN         NaN        0.0   \n3        1.0             NaN  2011.0         NaN        0.0   \n4        1.0             NaN  2012.0      1979.0        1.0   \n...      ...             ...     ...         ...        ...   \n15356    1.0             NaN     NaN         NaN        0.0   \n15357    1.0             NaN     NaN         NaN        0.0   \n15358    1.0             NaN    2012      1981.0        1.0   \n15359    1.0             NaN    2008      1976.0        1.0   \n15360    1.0             NaN     NaN         NaN        0.0   \n\n                 institution  \n0                        NaN  \n1      Karolinska Institutet  \n2                        NaN  \n3                        NaN  \n4      Karolinska Institutet  \n...                      ...  \n15356                    NaN  \n15357                    NaN  \n15358       Umeå universitet  \n15359    Uppsala universitet  \n15360                    NaN  \n\n[15361 rows x 14 columns]",
      "text/html": "<div>\n<style scoped>\n    .dataframe tbody tr th:only-of-type {\n        vertical-align: middle;\n    }\n\n    .dataframe tbody tr th {\n        vertical-align: top;\n    }\n\n    .dataframe thead th {\n        text-align: right;\n    }\n</style>\n<table border=\"1\" class=\"dataframe\">\n  <thead>\n    <tr style=\"text-align: right;\">\n      <th></th>\n      <th>NID</th>\n      <th>group</th>\n      <th>total groups</th>\n      <th>Completed</th>\n      <th>Not Found</th>\n      <th>name</th>\n      <th>surname</th>\n      <th>app_ids</th>\n      <th>count</th>\n      <th>personnummer_cv</th>\n      <th>year</th>\n      <th>birth_year</th>\n      <th>in_sweden</th>\n      <th>institution</th>\n    </tr>\n  </thead>\n  <tbody>\n    <tr>\n      <th>0</th>\n      <td>1.0</td>\n      <td>1.0</td>\n      <td>1</td>\n      <td></td>\n      <td></td>\n      <td>Amaia</td>\n      <td>Calderón-Larrañaga</td>\n      <td>[2016-00981]</td>\n      <td>1.0</td>\n      <td>19830529-3386</td>\n      <td>NaN</td>\n      <td>NaN</td>\n      <td>0.0</td>\n      <td>NaN</td>\n    </tr>\n    <tr>\n      <th>1</th>\n      <td>2.0</td>\n      <td>1.0</td>\n      <td>1</td>\n      <td>x</td>\n      <td></td>\n      <td>Maria</td>\n      <td>Swanberg</td>\n      <td>[2016-00992, 2013-03310, 2012-02563, 2013-0335...</td>\n      <td>6.0</td>\n      <td>19770510-0241</td>\n      <td>2007.0</td>\n      <td>1977.0</td>\n      <td>1.0</td>\n      <td>Karolinska Institutet</td>\n    </tr>\n    <tr>\n      <th>2</th>\n      <td>3.0</td>\n      <td>1.0</td>\n      <td>1</td>\n      <td></td>\n      <td></td>\n      <td>Christine-Maria</td>\n      <td>Horejs</td>\n      <td>[2016-01005]</td>\n      <td>1.0</td>\n      <td>NaN</td>\n      <td>NaN</td>\n      <td>NaN</td>\n      <td>0.0</td>\n      <td>NaN</td>\n    </tr>\n    <tr>\n      <th>3</th>\n      <td>4.0</td>\n      <td>1.0</td>\n      <td>1</td>\n      <td></td>\n      <td></td>\n      <td>Antti</td>\n      <td>Latvala</td>\n      <td>[2016-01008]</td>\n      <td>1.0</td>\n      <td>NaN</td>\n      <td>2011.0</td>\n      <td>NaN</td>\n      <td>0.0</td>\n      <td>NaN</td>\n    </tr>\n    <tr>\n      <th>4</th>\n      <td>5.0</td>\n      <td>1.0</td>\n      <td>1</td>\n      <td>x</td>\n      <td></td>\n      <td>Ljubica</td>\n      <td>Perisic</td>\n      <td>[2016-01016]</td>\n      <td>1.0</td>\n      <td>NaN</td>\n      <td>2012.0</td>\n      <td>1979.0</td>\n      <td>1.0</td>\n      <td>Karolinska Institutet</td>\n    </tr>\n    <tr>\n      <th>...</th>\n      <td>...</td>\n      <td>...</td>\n      <td>...</td>\n      <td>...</td>\n      <td>...</td>\n      <td>...</td>\n      <td>...</td>\n      <td>...</td>\n      <td>...</td>\n      <td>...</td>\n      <td>...</td>\n      <td>...</td>\n      <td>...</td>\n      <td>...</td>\n    </tr>\n    <tr>\n      <th>15356</th>\n      <td>13542.0</td>\n      <td>1.0</td>\n      <td>1</td>\n      <td></td>\n      <td></td>\n      <td>Alena</td>\n      <td>Stsiapanava</td>\n      <td>[2015-05578]</td>\n      <td>1.0</td>\n      <td>NaN</td>\n      <td>NaN</td>\n      <td>NaN</td>\n      <td>0.0</td>\n      <td>NaN</td>\n    </tr>\n    <tr>\n      <th>15357</th>\n      <td>13543.0</td>\n      <td>1.0</td>\n      <td>1</td>\n      <td></td>\n      <td></td>\n      <td>Holger</td>\n      <td>Kohr</td>\n      <td>[2015-05595]</td>\n      <td>1.0</td>\n      <td>NaN</td>\n      <td>NaN</td>\n      <td>NaN</td>\n      <td>0.0</td>\n      <td>NaN</td>\n    </tr>\n    <tr>\n      <th>15358</th>\n      <td>13544.0</td>\n      <td>1.0</td>\n      <td>1</td>\n      <td>x</td>\n      <td></td>\n      <td>Dipak</td>\n      <td>Surie</td>\n      <td>[2015-05602]</td>\n      <td>1.0</td>\n      <td>NaN</td>\n      <td>2012</td>\n      <td>1981.0</td>\n      <td>1.0</td>\n      <td>Umeå universitet</td>\n    </tr>\n    <tr>\n      <th>15359</th>\n      <td>13545.0</td>\n      <td>1.0</td>\n      <td>1</td>\n      <td>x</td>\n      <td></td>\n      <td>Charlotta</td>\n      <td>Wallinder</td>\n      <td>[2015-05605]</td>\n      <td>1.0</td>\n      <td>NaN</td>\n      <td>2008</td>\n      <td>1976.0</td>\n      <td>1.0</td>\n      <td>Uppsala universitet</td>\n    </tr>\n    <tr>\n      <th>15360</th>\n      <td>13546.0</td>\n      <td>1.0</td>\n      <td>1</td>\n      <td></td>\n      <td></td>\n      <td>Khadga</td>\n      <td>Karki</td>\n      <td>[2015-05618]</td>\n      <td>1.0</td>\n      <td>NaN</td>\n      <td>NaN</td>\n      <td>NaN</td>\n      <td>0.0</td>\n      <td>NaN</td>\n    </tr>\n  </tbody>\n</table>\n<p>15361 rows × 14 columns</p>\n</div>"
     },
     "execution_count": 270,
     "metadata": {},
     "output_type": "execute_result"
    }
   ],
   "source": [
    "#merged_df = out_df.iloc[0:100,:].copy()\n",
    "merged_df = out_df.copy()\n",
    "for i in list(set(merged_df['NID'].values)):\n",
    "    merged_df.loc[((merged_df['NID'] == i) & (merged_df['group'] == 1)), ['personnummer_cv', 'year', 'birth_year', 'in_sweden', 'institution']] = RA.loc[RA['ID'] == i, ['personnummer_cv', 'year', 'birth_year', 'in_sweden', 'institution']].values\n",
    "\n",
    "# mark complete if one group and year and birth year in place\n",
    "merged_df.loc[((~merged_df['year'].isnull())&(~merged_df['birth_year'].isnull())&(~merged_df['institution'].isnull())&(merged_df['total groups'] == 1)),'Completed'] = \"x\"\n",
    "\n",
    "merged_df"
   ],
   "metadata": {
    "collapsed": false,
    "pycharm": {
     "name": "#%%\n"
    }
   }
  },
  {
   "cell_type": "code",
   "execution_count": 271,
   "outputs": [],
   "source": [
    "# export the merged_df\n",
    "\n",
    "writer = pd.ExcelWriter('RA_Sheet_Grouped.xlsx', engine='xlsxwriter')\n",
    "merged_df.to_excel(writer, sheet_name=\"Researchers\", index=False)\n",
    "writer.save()\n"
   ],
   "metadata": {
    "collapsed": false,
    "pycharm": {
     "name": "#%%\n"
    }
   }
  }
 ],
 "metadata": {
  "kernelspec": {
   "display_name": "Python 3",
   "language": "python",
   "name": "python3"
  },
  "language_info": {
   "codemirror_mode": {
    "name": "ipython",
    "version": 2
   },
   "file_extension": ".py",
   "mimetype": "text/x-python",
   "name": "python",
   "nbconvert_exporter": "python",
   "pygments_lexer": "ipython2",
   "version": "2.7.6"
  }
 },
 "nbformat": 4,
 "nbformat_minor": 0
}